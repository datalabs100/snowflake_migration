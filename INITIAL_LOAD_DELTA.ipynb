{
 "metadata": {
  "kernelspec": {
   "display_name": "Streamlit Notebook",
   "name": "streamlit"
  },
  "lastEditStatus": {
   "notebookId": "dc4sgjz4vqrcdn2cqrt7",
   "authorId": "7839801670957",
   "authorName": "MZS1988",
   "authorEmail": "datalabs300@gmail.com",
   "sessionId": "77b7e43d-d73a-48d0-9a05-8fbc405b6a94",
   "lastEditTime": 1759338885471
  }
 },
 "nbformat_minor": 5,
 "nbformat": 4,
 "cells": [
  {
   "cell_type": "code",
   "id": "3775908f-ca36-4846-8f38-5adca39217f2",
   "metadata": {
    "language": "sql",
    "name": "cell1"
   },
   "source": "USE DATABASE DEV;\nUSE SCHEMA DATASCIENCE;",
   "execution_count": null,
   "outputs": []
  },
  {
   "cell_type": "code",
   "id": "8d50cbf4-0c8d-4950-86cb-114990437ac9",
   "metadata": {
    "language": "sql",
    "name": "cell2"
   },
   "source": "CREATE OR REPLACE FILE FORMAT my_parquet_format\n  TYPE = 'PARQUET';",
   "execution_count": null,
   "outputs": []
  },
  {
   "cell_type": "code",
   "id": "c695373e-ac74-4b62-a1f1-08206cbd5c81",
   "metadata": {
    "language": "sql",
    "name": "cell3"
   },
   "source": "CREATE OR REPLACE STAGE bronze_csv_delta\nURL = 's3://datascience-output-bucket/bronze/'\nSTORAGE_INTEGRATION = aws_snowflake_connect\nFILE_FORMAT = my_parquet_format;",
   "execution_count": null,
   "outputs": []
  },
  {
   "cell_type": "code",
   "id": "361793ca-b738-4074-a1f3-8c886a886318",
   "metadata": {
    "language": "sql",
    "name": "cell4"
   },
   "outputs": [],
   "source": "CREATE OR REPLACE TABLE bronze_customers_delta (\n  customer_id   INT,\n  customer_name STRING,\n  start_date    TIMESTAMP_NTZ,\n  delete_flag   STRING\n);\n\nCREATE OR REPLACE TABLE bronze_products_delta (\n  product_id    STRING,         \n  product_name  STRING,\n  start_date    TIMESTAMP_NTZ,\n  delete_flag   STRING\n);\n\nCREATE OR REPLACE TABLE bronze_orders_delta (\n  order_id     STRING,        \n  customer_id  INT,\n  product_id   STRING,\n  start_date   TIMESTAMP_NTZ,\n  delete_flag  STRING\n);",
   "execution_count": null
  },
  {
   "cell_type": "code",
   "id": "4b8f5b8e-24f0-4ae6-872b-d4d23e27881c",
   "metadata": {
    "language": "python",
    "name": "cell5",
    "codeCollapsed": false
   },
   "outputs": [],
   "source": "from datetime import datetime\n#from datetime import datetime, timedelta\nfrom snowflake.snowpark import Session\n\n# Step 1: Use UTC to avoid local timezone mismatch\nfolder_path = datetime.utcnow().strftime(\"%Y/%b/%d/\").title()  # e.g. 2025/Aug/20/\nprint(\"📌 Using folder path:\", folder_path)\n\n#tomorrow = datetime.utcnow() + timedelta(days=-1)\n#folder_path = tomorrow.strftime(\"%Y/%b/%d/\").title()\n#print(\"📌 Using folder path:\", folder_path)\n\n# Step 2: Snowflake connection config\nconnection_parameters = {\n    \"account\": \"MJ13681.ap-southeast-1\",\n    \"user\": \"mzs1988\",\n    \"password\": \"Datalabs@193001\",\n    \"role\": \"ACCOUNTADMIN\",\n    \"warehouse\": \"COMPUTE_WH\",\n    \"database\": \"DEV\",\n    \"schema\": \"DATASCIENCE\"\n}\n\ntry:\n    # Step 3: Create session\n    session = Session.builder.configs(connection_parameters).create()\n\n    # =====================\n    # Customers\n    # =====================\n    copy_customers = f\"\"\"\n    COPY INTO bronze_customers_delta\n    FROM @bronze_csv/customers/Delta_load/csv_files/{folder_path}\n    FILE_FORMAT = (FORMAT_NAME = my_parquet_format)\n    MATCH_BY_COLUMN_NAME = CASE_INSENSITIVE\n    PATTERN = '.*Customers_.*?/part-.*\\\\.parquet';\n    \"\"\"\n    session.sql(copy_customers).collect()\n    print(\"✅ Bronze Customers loaded\")\n\n    # =====================\n    # Products\n    # =====================\n    copy_products = f\"\"\"\n    COPY INTO bronze_products_delta\n    FROM @bronze_csv/products/Delta_load/csv_files/{folder_path}\n    FILE_FORMAT = (FORMAT_NAME = my_parquet_format)\n    MATCH_BY_COLUMN_NAME = CASE_INSENSITIVE\n    PATTERN = '.*Products_.*?/part-.*\\\\.parquet';\n    \"\"\"\n    session.sql(copy_products).collect()\n    print(\"✅ Bronze Products loaded\")\n\n    # =====================\n    # Orders\n    # =====================\n    copy_orders = f\"\"\"\n    COPY INTO bronze_orders_delta\n    FROM @bronze_csv/orders/Delta_load/csv_files/{folder_path}\n    FILE_FORMAT = (FORMAT_NAME = my_parquet_format)\n    MATCH_BY_COLUMN_NAME = CASE_INSENSITIVE\n    PATTERN = '.*Orders_.*?/part-.*\\\\.parquet';\n    \"\"\"\n    session.sql(copy_orders).collect()\n    print(\"✅ Bronze Orders loaded\")\n\nfinally:\n    # Step 7: Always close session\n    session.sql(\"COMMIT\").collect()\n    session.close()\n    print(\"🔒 Session closed\")",
   "execution_count": null
  },
  {
   "cell_type": "code",
   "id": "90c84cdd-f5fa-4fca-9ed7-33ef9431c1e8",
   "metadata": {
    "language": "python",
    "name": "cell6"
   },
   "outputs": [],
   "source": "df = session.table(\"bronze_orders_delta\").limit(10)\ndf.show()",
   "execution_count": null
  },
  {
   "cell_type": "code",
   "id": "8c08325c-c246-4009-a41c-d2acb2511dd4",
   "metadata": {
    "language": "python",
    "name": "cell7"
   },
   "outputs": [],
   "source": "from snowflake.snowpark import Session\nfrom snowflake.snowpark.functions import col, sql_expr, lit\nfrom datetime import datetime\n\n# ---- Snowflake connection ----\nconnection_parameters = {\n    \"account\": \"MJ13681.ap-southeast-1\",\n    \"user\": \"mzs1988\",\n    \"password\": \"Datalabs@193001\",\n    \"role\": \"ACCOUNTADMIN\",\n    \"warehouse\": \"COMPUTE_WH\",\n    \"database\": \"DEV\",\n    \"schema\": \"DATASCIENCE\"\n}\n\n# ---- Session ----\nsession = Session.builder.configs(connection_parameters).create()\n\n# ---- Current UTC timestamp (seconds precision) ----\nnow = sql_expr(\"TO_TIMESTAMP_NTZ(TO_CHAR(CONVERT_TIMEZONE('UTC', CURRENT_TIMESTAMP()), 'YYYY-MM-DD HH24:MI:SS'))\")\nend_date = lit(\"2099-12-31 23:59:59\").cast(\"timestamp\")\n\n# ---- Bronze Delta -> Silver Delta (cleaning, dedupe, no delete_flag in output) ----\ncustomers_delta = session.table(\"bronze_customers_delta\")\nproducts_delta  = session.table(\"bronze_products_delta\")\norders_delta    = session.table(\"bronze_orders_delta\")\n\nsilver_customers_delta = (\n    customers_delta\n    .filter(\n        (col(\"delete_flag\") == lit(\"N\")) &\n        col(\"customer_id\").is_not_null() &\n        (col(\"customer_id\") > 0) &\n        col(\"customer_name\").is_not_null() &\n        col(\"start_date\").is_not_null() &\n        (col(\"start_date\") <= now)\n    )\n    .distinct()\n    .select(\n        col(\"customer_id\").cast(\"int\").alias(\"customer_id\"),\n        sql_expr(\"TRIM(customer_name)\").alias(\"customer_name\"),\n        col(\"start_date\").cast(\"timestamp\").alias(\"start_date\"),\n        now.alias(\"load_date\"),\n        end_date.alias(\"end_date\")\n    )\n)\n\nsilver_products_delta = (\n    products_delta\n    .filter(\n        (col(\"delete_flag\") == lit(\"N\")) &\n        col(\"product_id\").is_not_null() &\n        col(\"product_name\").is_not_null() &\n        col(\"start_date\").is_not_null() &\n        (col(\"start_date\") <= now)\n    )\n    .distinct()\n    .select(\n        col(\"product_id\").cast(\"string\").alias(\"product_id\"),\n        sql_expr(\"TRIM(product_name)\").alias(\"product_name\"),\n        col(\"start_date\").cast(\"timestamp\").alias(\"start_date\"),\n        now.alias(\"load_date\"),\n        end_date.alias(\"end_date\")\n    )\n)\n\nsilver_orders_delta = (\n    orders_delta\n    .filter(\n        (col(\"delete_flag\") == lit(\"N\")) &\n        col(\"order_id\").is_not_null() &\n        col(\"customer_id\").is_not_null() &\n        col(\"product_id\").is_not_null() &\n        col(\"start_date\").is_not_null() &\n        (col(\"start_date\") <= now)\n    )\n    .distinct()\n    .select(\n        col(\"order_id\").cast(\"string\").alias(\"order_id\"),\n        col(\"customer_id\").cast(\"int\").alias(\"customer_id\"),\n        col(\"product_id\").cast(\"string\").alias(\"product_id\"),\n        col(\"start_date\").cast(\"timestamp\").alias(\"start_date\"),\n        now.alias(\"load_date\"),\n        end_date.alias(\"end_date\")\n    )\n)\n\n# ---- Write Silver Delta Tables ----\nsilver_customers_delta.write.mode(\"overwrite\").save_as_table(\"silver_customers_delta\")\nsilver_products_delta.write.mode(\"overwrite\").save_as_table(\"silver_products_delta\")\nsilver_orders_delta.write.mode(\"overwrite\").save_as_table(\"silver_orders_delta\")\n\nprint(\"✅ Silver Delta tables created (delete_flag removed, UTC load_date, deduped).\")\n\n# ---- Close session ----\nsession.close()\nprint(\"🔒 Session closed\")\n",
   "execution_count": null
  },
  {
   "cell_type": "code",
   "id": "5be61fb3-459e-4e4a-8dcf-ef0fe9252494",
   "metadata": {
    "language": "python",
    "name": "cell8",
    "codeCollapsed": false
   },
   "outputs": [],
   "source": "df = session.table(\"silver_customers_delta\").order_by(\"customer_id\").limit(10)\ndf.show()",
   "execution_count": null
  }
 ]
}