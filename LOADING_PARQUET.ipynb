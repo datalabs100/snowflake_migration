{
 "metadata": {
  "kernelspec": {
   "display_name": "Streamlit Notebook",
   "name": "streamlit"
  },
  "lastEditStatus": {
   "notebookId": "p4xlrka6zrviclvkxrnu",
   "authorId": "7599755599173",
   "authorName": "ZUBAIR2216",
   "authorEmail": "datalabs200@gmail.com",
   "sessionId": "cf01ef99-d354-4287-b944-f174ef2fb176",
   "lastEditTime": 1751951730371
  }
 },
 "nbformat_minor": 5,
 "nbformat": 4,
 "cells": [
  {
   "cell_type": "code",
   "id": "3775908f-ca36-4846-8f38-5adca39217f2",
   "metadata": {
    "language": "sql",
    "name": "cell1"
   },
   "source": "USE DATABASE DEV;\nUSE SCHEMA DATASCIENCE;",
   "execution_count": null,
   "outputs": []
  },
  {
   "cell_type": "code",
   "id": "8d50cbf4-0c8d-4950-86cb-114990437ac9",
   "metadata": {
    "language": "sql",
    "name": "cell2"
   },
   "source": "CREATE OR REPLACE FILE FORMAT my_parquet_format\n  TYPE = 'PARQUET';",
   "execution_count": null,
   "outputs": []
  },
  {
   "cell_type": "code",
   "id": "c695373e-ac74-4b62-a1f1-08206cbd5c81",
   "metadata": {
    "language": "sql",
    "name": "cell3"
   },
   "source": "CREATE OR REPLACE STAGE bronze_xml\n  URL = 's3://datascience-output-bucket/bronze/xml/'\n  STORAGE_INTEGRATION = aws_snowflake_connect\n  FILE_FORMAT = my_parquet_format;",
   "execution_count": null,
   "outputs": []
  },
  {
   "cell_type": "code",
   "id": "d1e2f076-e5fc-4863-a563-0f6dd3c1be92",
   "metadata": {
    "language": "sql",
    "name": "cell4"
   },
   "outputs": [],
   "source": "CREATE OR REPLACE TABLE customers (\n  customer_id   INT,\n  customer_name STRING,\n  start_date TIMESTAMP_NTZ\n);\n\nCREATE OR REPLACE TABLE products (\n  product_id    STRING,         \n  product_name  STRING,\n  start_date    TIMESTAMP_NTZ\n);\n\nCREATE OR REPLACE TABLE orders (\n  order_id     STRING,        \n  customer_id  INT,\n  product_id   STRING,\n  start_date   TIMESTAMP_NTZ\n);",
   "execution_count": null
  },
  {
   "cell_type": "code",
   "id": "f0a4deb8-479f-42ed-b9d0-6dad8e7cbd7f",
   "metadata": {
    "language": "python",
    "name": "cell6"
   },
   "outputs": [],
   "source": "from datetime import datetime\nfrom snowflake.snowpark import Session\n\n# Step 1: Folder path\nfolder_path = datetime.utcnow().strftime(\"%Y/%b/%d/\").title()\n\n# Step 2: Snowflake connection config\nconnection_parameters = {\n    \"account\": \"PL49411.ap-southeast-1\",\n    \"user\": \"ZUBAIR2216\",\n    \"password\": \"Datalabs@193001\",\n    \"role\": \"ACCOUNTADMIN\",\n    \"warehouse\": \"COMPUTE_WH\",\n    \"database\": \"DEV\",\n    \"schema\": \"DATASCIENCE\"\n}\n\n# Step 3: Create session\nsession = Session.builder.configs(connection_parameters).create()\n\n# Step 4: COPY INTO customers\ncopy_customers = f\"\"\"\nCOPY INTO customers\nFROM @bronze_xml/{folder_path}\nFILE_FORMAT = (FORMAT_NAME = my_parquet_format)\nMATCH_BY_COLUMN_NAME = CASE_INSENSITIVE\nPATTERN = '.*Customers_.*\\\\.parquet';\n\"\"\"\nsession.sql(copy_customers).collect()\nprint(\"✅ Customers loaded\")\n\n# Step 5: COPY INTO products\ncopy_products = f\"\"\"\nCOPY INTO products\nFROM @bronze_xml/{folder_path}\nFILE_FORMAT = (FORMAT_NAME = my_parquet_format)\nMATCH_BY_COLUMN_NAME = CASE_INSENSITIVE\nPATTERN = '.*Products_.*\\\\.parquet';\n\"\"\"\nsession.sql(copy_products).collect()\nprint(\"✅ Products loaded\")\n\n# Step 6: COPY INTO orders\ncopy_orders = f\"\"\"\nCOPY INTO orders\nFROM @bronze_xml/{folder_path}\nFILE_FORMAT = (FORMAT_NAME = my_parquet_format)\nMATCH_BY_COLUMN_NAME = CASE_INSENSITIVE\nPATTERN = '.*Orders_.*\\\\.parquet';\n\"\"\"\nsession.sql(copy_orders).collect()\nprint(\"✅ Orders loaded\")\n\n# Step 7: Close session\nsession.close()\nprint(\"🔒 Session closed\")",
   "execution_count": null
  },
  {
   "cell_type": "code",
   "id": "52267f5b-dd8a-44be-8e9c-02c9694fda90",
   "metadata": {
    "language": "python",
    "name": "cell10"
   },
   "outputs": [],
   "source": "print(folder_path)",
   "execution_count": null
  },
  {
   "cell_type": "code",
   "id": "3304bc3a-c647-41e6-95ae-807f55a96f6e",
   "metadata": {
    "language": "python",
    "name": "cell5"
   },
   "outputs": [],
   "source": "# Show top 10 rows from customers table\ndf = session.table(\"orders\").limit(10)\ndf.show()",
   "execution_count": null
  },
  {
   "cell_type": "code",
   "id": "6cb99c71-c396-46e4-ad4b-0bd8101afbbf",
   "metadata": {
    "language": "sql",
    "name": "cell7"
   },
   "outputs": [],
   "source": "select * from customers;",
   "execution_count": null
  },
  {
   "cell_type": "code",
   "id": "f1d8f584-91f0-482e-8586-d5e9ada0ddf0",
   "metadata": {
    "language": "sql",
    "name": "cell8"
   },
   "outputs": [],
   "source": "select * from products;",
   "execution_count": null
  },
  {
   "cell_type": "code",
   "id": "b7bdcc32-02af-4870-9b3c-4c83216c9409",
   "metadata": {
    "language": "sql",
    "name": "cell9"
   },
   "outputs": [],
   "source": "select * from orders;",
   "execution_count": null
  }
 ]
}