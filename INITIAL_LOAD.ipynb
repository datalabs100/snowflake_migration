{
 "metadata": {
  "kernelspec": {
   "display_name": "Streamlit Notebook",
   "name": "streamlit"
  },
  "lastEditStatus": {
   "notebookId": "xpi3huyp2kna2xab747l",
   "authorId": "7839801670957",
   "authorName": "MZS1988",
   "authorEmail": "datalabs300@gmail.com",
   "sessionId": "f18aba07-db9b-4adf-97a1-71f2154c0c63",
   "lastEditTime": 1758936741546
  }
 },
 "nbformat_minor": 5,
 "nbformat": 4,
 "cells": [
  {
   "cell_type": "code",
   "id": "3775908f-ca36-4846-8f38-5adca39217f2",
   "metadata": {
    "language": "sql",
    "name": "cell1"
   },
   "source": "USE DATABASE DEV;\nUSE SCHEMA DATASCIENCE;",
   "execution_count": null,
   "outputs": []
  },
  {
   "cell_type": "code",
   "id": "8d50cbf4-0c8d-4950-86cb-114990437ac9",
   "metadata": {
    "language": "sql",
    "name": "cell2"
   },
   "source": "CREATE OR REPLACE FILE FORMAT my_parquet_format\n  TYPE = 'PARQUET';",
   "execution_count": null,
   "outputs": []
  },
  {
   "cell_type": "code",
   "id": "c695373e-ac74-4b62-a1f1-08206cbd5c81",
   "metadata": {
    "language": "sql",
    "name": "cell3"
   },
   "source": "CREATE OR REPLACE STAGE bronze_csv\nURL = 's3://datascience-output-bucket/bronze/'\nSTORAGE_INTEGRATION = aws_snowflake_connect\nFILE_FORMAT = my_parquet_format;",
   "execution_count": null,
   "outputs": []
  },
  {
   "cell_type": "code",
   "id": "361793ca-b738-4074-a1f3-8c886a886318",
   "metadata": {
    "language": "sql",
    "name": "cell4"
   },
   "outputs": [],
   "source": "CREATE OR REPLACE TABLE bronze_customers (\n  customer_id   INT,\n  customer_name STRING,\n  start_date TIMESTAMP_NTZ\n);\n\nCREATE OR REPLACE TABLE bronze_products (\n  product_id    STRING,         \n  product_name  STRING,\n  start_date    TIMESTAMP_NTZ\n);\n\nCREATE OR REPLACE TABLE bronze_orders (\n  order_id     STRING,        \n  customer_id  INT,\n  product_id   STRING,\n  start_date   TIMESTAMP_NTZ\n);",
   "execution_count": null
  },
  {
   "cell_type": "code",
   "id": "4b8f5b8e-24f0-4ae6-872b-d4d23e27881c",
   "metadata": {
    "language": "python",
    "name": "cell5"
   },
   "outputs": [],
   "source": "#from datetime import datetime\nfrom datetime import datetime, timedelta\nfrom snowflake.snowpark import Session\n\n# Step 1: Use UTC to avoid local timezone mismatch\n#folder_path = datetime.utcnow().strftime(\"%Y/%b/%d/\").title()  # e.g. 2025/Aug/20/\n#print(\"📌 Using folder path:\", folder_path)\n\ntomorrow = datetime.utcnow() + timedelta(days=-9)\nfolder_path = tomorrow.strftime(\"%Y/%b/%d/\").title()\nprint(\"📌 Using folder path:\", folder_path)\n\n# Step 2: Snowflake connection config\nconnection_parameters = {\n    \"account\": \"MJ13681.ap-southeast-1\",\n    \"user\": \"mzs1988\",\n    \"password\": \"Datalabs@193001\",\n    \"role\": \"ACCOUNTADMIN\",\n    \"warehouse\": \"COMPUTE_WH\",\n    \"database\": \"DEV\",\n    \"schema\": \"DATASCIENCE\"\n}\n\ntry:\n    # Step 3: Create session\n    session = Session.builder.configs(connection_parameters).create()\n\n    # =====================\n    # Customers\n    # =====================\n    copy_customers = f\"\"\"\n    COPY INTO bronze_customers\n    FROM @bronze_csv/customers/Full_load/csv_files/{folder_path}\n    FILE_FORMAT = (FORMAT_NAME = my_parquet_format)\n    MATCH_BY_COLUMN_NAME = CASE_INSENSITIVE\n    PATTERN = '.*Customers_.*?/part-.*\\\\.parquet';\n    \"\"\"\n    session.sql(copy_customers).collect()\n    print(\"✅ Bronze Customers loaded\")\n\n    # =====================\n    # Products\n    # =====================\n    copy_products = f\"\"\"\n    COPY INTO bronze_products\n    FROM @bronze_csv/products/Full_load/csv_files/{folder_path}\n    FILE_FORMAT = (FORMAT_NAME = my_parquet_format)\n    MATCH_BY_COLUMN_NAME = CASE_INSENSITIVE\n    PATTERN = '.*Products_.*?/part-.*\\\\.parquet';\n    \"\"\"\n    session.sql(copy_products).collect()\n    print(\"✅ Bronze Products loaded\")\n\n    # =====================\n    # Orders\n    # =====================\n    copy_orders = f\"\"\"\n    COPY INTO bronze_orders\n    FROM @bronze_csv/orders/Full_load/csv_files/{folder_path}\n    FILE_FORMAT = (FORMAT_NAME = my_parquet_format)\n    MATCH_BY_COLUMN_NAME = CASE_INSENSITIVE\n    PATTERN = '.*Orders_.*?/part-.*\\\\.parquet';\n    \"\"\"\n    session.sql(copy_orders).collect()\n    print(\"✅ Bronze Orders loaded\")\n\nfinally:\n    # Step 7: Always close session\n    session.sql(\"COMMIT\").collect()\n    session.close()\n    print(\"🔒 Session closed\")",
   "execution_count": null
  },
  {
   "cell_type": "code",
   "id": "90c84cdd-f5fa-4fca-9ed7-33ef9431c1e8",
   "metadata": {
    "language": "python",
    "name": "cell6"
   },
   "outputs": [],
   "source": "df = session.table(\"bronze_orders\").limit(10)\ndf.show()",
   "execution_count": null
  },
  {
   "cell_type": "code",
   "id": "8c08325c-c246-4009-a41c-d2acb2511dd4",
   "metadata": {
    "language": "python",
    "name": "cell7"
   },
   "outputs": [],
   "source": "from snowflake.snowpark import Session\nfrom snowflake.snowpark.functions import col, sql_expr, lit\n#from datetime import datetime\nfrom datetime import datetime, timedelta\n\n# ---- Date folder (UTC) ----\n#folder_path = datetime.utcnow().strftime(\"%Y/%b/%d/\").title()  # e.g. 2025/Aug/28/\n#print(\"📌 Using folder path:\", folder_path)\n\ntomorrow = datetime.utcnow() + timedelta(days=-9)\nfolder_path = tomorrow.strftime(\"%Y/%b/%d/\").title()\nprint(\"📌 Using folder path:\", folder_path)\n\n# ---- Snowflake connection ----\nconnection_parameters = {\n    \"account\": \"MJ13681.ap-southeast-1\",\n    \"user\": \"mzs1988\",\n    \"password\": \"Datalabs@193001\",\n    \"role\": \"ACCOUNTADMIN\",\n    \"warehouse\": \"COMPUTE_WH\",\n    \"database\": \"DEV\",\n    \"schema\": \"DATASCIENCE\"\n}\n\n# ---- Session ----\nsession = Session.builder.configs(connection_parameters).create()\n\n# ---- Current UTC timestamp (second precision) ----\n#now = sql_expr(\"TO_TIMESTAMP_NTZ(TO_CHAR(CURRENT_TIMESTAMP(), 'YYYY-MM-DD HH24:MI:SS'))\")\nnow = sql_expr(\"TO_TIMESTAMP_NTZ(TO_CHAR(CONVERT_TIMEZONE('UTC', CURRENT_TIMESTAMP()), 'YYYY-MM-DD HH24:MI:SS'))\")\nend_date = lit(\"2099-12-31 23:59:59\").cast(\"timestamp\")\n\n# ---- Bronze -> Clean (dedupe, required fields, UTC casting) ----\ncustomers = session.table(\"bronze_customers\")\nproducts  = session.table(\"bronze_products\")\norders    = session.table(\"bronze_orders\")\n\ncustomers_clean = (\n    customers.filter(\n    (col(\"customer_id\").is_not_null()) &\n    (col(\"customer_name\").is_not_null()) &\n    (col(\"start_date\").is_not_null()) &\n    (col(\"customer_id\") > 0) &\n    (col(\"start_date\") <= now)\n).distinct()\n    .with_column(\"customer_id\", col(\"customer_id\").cast(\"int\"))\n    .with_column(\"customer_name\", sql_expr(\"TRIM(customer_name)\"))\n    .with_column(\"start_date\", col(\"start_date\").cast(\"timestamp\"))\n    .with_column(\"load_date\", now)\n    .with_column(\"end_date\", end_date)\n)\n\nproducts_clean = (\nproducts.filter(\n    (col(\"product_id\").is_not_null()) &\n    (col(\"product_name\").is_not_null()) &\n    (col(\"start_date\").is_not_null()) &\n    (col(\"start_date\") <= now)\n).distinct()\n    .with_column(\"product_id\", col(\"product_id\").cast(\"string\"))\n    .with_column(\"product_name\", sql_expr(\"TRIM(product_name)\"))\n    .with_column(\"start_date\", col(\"start_date\").cast(\"timestamp\"))\n    .with_column(\"load_date\", now)\n    .with_column(\"end_date\", end_date)\n)\n\norders_clean = (\n    orders\n    .filter(\n        (col(\"order_id\").is_not_null()) &\n        (col(\"customer_id\").is_not_null()) &\n        (col(\"product_id\").is_not_null()) &\n        (col(\"start_date\").is_not_null()) &\n        (col(\"start_date\") <= now)\n    )\n    .distinct()\n    .with_column(\"order_id\", col(\"order_id\").cast(\"string\"))\n    .with_column(\"customer_id\", col(\"customer_id\").cast(\"int\"))\n    .with_column(\"product_id\", col(\"product_id\").cast(\"string\"))\n    .with_column(\"start_date\", col(\"start_date\").cast(\"timestamp\"))\n    .with_column(\"load_date\", now)\n    .with_column(\"end_date\", end_date)\n)\n\n# ---- Write Silver DLT tables ----\ncustomers_clean.write.mode(\"overwrite\").save_as_table(\"silver_dlt_customers\")\nproducts_clean.write.mode(\"overwrite\").save_as_table(\"silver_dlt_products\")\norders_clean.write.mode(\"overwrite\").save_as_table(\"silver_dlt_orders\")\nprint(\"✅ Silver DLT tables refreshed (deduped, cleansed, UTC load_date)\")\n\n# ---- Stage for Silver Parquet (still Parquet, named silver_csv) ----\nsession.sql(\"\"\"\nCREATE OR REPLACE STAGE silver_csv\nURL = 's3://datascience-output-bucket/silver/'\nSTORAGE_INTEGRATION = aws_snowflake_connect\nFILE_FORMAT = (TYPE = PARQUET COMPRESSION = SNAPPY)\n\"\"\").collect()\n\n# ---- Export Silver -> S3 Parquet (new path structure) ----\n# Customers\nsession.sql(f\"\"\"\nCOPY INTO @silver_csv/customers/Full_load/csv_files/{folder_path}Customers.parquet\nFROM (\n    SELECT\n        customer_id,\n        TRIM(customer_name) AS customer_name,\n        TO_TIMESTAMP_NTZ(start_date) AS start_date,\n        TO_TIMESTAMP_NTZ(load_date)  AS load_date,\n        TO_TIMESTAMP_NTZ(end_date)   AS end_date\n    FROM silver_dlt_customers\n)\nFILE_FORMAT = (TYPE = PARQUET COMPRESSION = SNAPPY)\nSINGLE = TRUE\nOVERWRITE = TRUE;\n\"\"\").collect()\n\n# Products\nsession.sql(f\"\"\"\nCOPY INTO @silver_csv/products/Full_load/csv_files/{folder_path}Products.parquet\nFROM (\n    SELECT\n        product_id,\n        TRIM(product_name) AS product_name,\n        TO_TIMESTAMP_NTZ(start_date) AS start_date,\n        TO_TIMESTAMP_NTZ(load_date)  AS load_date,\n        TO_TIMESTAMP_NTZ(end_date)   AS end_date\n    FROM silver_dlt_products\n)\nFILE_FORMAT = (TYPE = PARQUET COMPRESSION = SNAPPY)\nSINGLE = TRUE\nOVERWRITE = TRUE;\n\"\"\").collect()\n\n# Orders\nsession.sql(f\"\"\"\nCOPY INTO @silver_csv/orders/Full_load/csv_files/{folder_path}Orders.parquet\nFROM (\n    SELECT\n        order_id,\n        customer_id,\n        product_id,\n        TO_TIMESTAMP_NTZ(start_date) AS start_date,\n        TO_TIMESTAMP_NTZ(load_date)  AS load_date,\n        TO_TIMESTAMP_NTZ(end_date)   AS end_date\n    FROM silver_dlt_orders\n)\nFILE_FORMAT = (TYPE = PARQUET COMPRESSION = SNAPPY)\nSINGLE = TRUE\nOVERWRITE = TRUE;\n\"\"\").collect()\n\nprint(\"✅ Parquet exported to:\")\nprint(f\"   s3://datascience-output-bucket/silver/customers/Full_load/csv_files/{folder_path}Customers.parquet\")\nprint(f\"   s3://datascience-output-bucket/silver/products/Full_load/csv_files/{folder_path}Products.parquet\")\nprint(f\"   s3://datascience-output-bucket/silver/orders/Full_load/csv_files/{folder_path}Orders.parquet\")\n\n# ---- Close ----\nsession.close()\nprint(\"🔒 Session closed\")\n",
   "execution_count": null
  },
  {
   "cell_type": "code",
   "id": "5be61fb3-459e-4e4a-8dcf-ef0fe9252494",
   "metadata": {
    "language": "python",
    "name": "cell8",
    "codeCollapsed": false
   },
   "outputs": [],
   "source": "df = session.table(\"silver_dlt_customers\").order_by(\"customer_id\").limit(10)\ndf.show()",
   "execution_count": null
  }
 ]
}