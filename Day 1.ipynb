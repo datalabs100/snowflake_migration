{
 "metadata": {
  "kernelspec": {
   "display_name": "Streamlit Notebook",
   "name": "streamlit"
  },
  "lastEditStatus": {
   "notebookId": "ob46sjxeqyakwwaj34by",
   "authorId": "7599755599173",
   "authorName": "ZUBAIR2216",
   "authorEmail": "datalabs200@gmail.com",
   "sessionId": "a5655db6-21d1-4360-892f-1e51661076c9",
   "lastEditTime": 1752164898539
  }
 },
 "nbformat_minor": 5,
 "nbformat": 4,
 "cells": [
  {
   "cell_type": "code",
   "id": "c5763d67-7001-4641-a649-02fec60724c8",
   "metadata": {
    "language": "sql",
    "name": "cell4"
   },
   "outputs": [],
   "source": "CREATE OR REPLACE STAGE bronze_xml\n  URL = 's3://datascience-output-bucket/bronze/xml/'\n  STORAGE_INTEGRATION = aws_snowflake_connect\n  FILE_FORMAT = my_parquet_format;",
   "execution_count": null
  },
  {
   "cell_type": "code",
   "id": "3775908f-ca36-4846-8f38-5adca39217f2",
   "metadata": {
    "language": "python",
    "name": "cell1"
   },
   "source": "from snowflake.snowpark import Session\n\nconnection_parameters = {\n    \"account\": \"PL49411.ap-southeast-1\",\n    \"user\": \"ZUBAIR2216\",\n    \"password\": \"Datalabs@193001\",\n    \"role\": \"ACCOUNTADMIN\",\n    \"warehouse\": \"COMPUTE_WH\",\n    \"database\": \"DEV\",\n    \"schema\": \"DATASCIENCE\"\n}\n\nsession = Session.builder.configs(connection_parameters).create()\nprint(\"✅ Snowflake session started\")",
   "execution_count": null,
   "outputs": []
  },
  {
   "cell_type": "code",
   "id": "c695373e-ac74-4b62-a1f1-08206cbd5c81",
   "metadata": {
    "language": "python",
    "name": "cell3"
   },
   "source": "from datetime import datetime, timedelta\n\ntoday = datetime.utcnow()\nyesterday = today - timedelta(days=1)\n\nfolder_today = today.strftime(\"%Y/%b/%d/\").title()\nfolder_yesterday = yesterday.strftime(\"%Y/%b/%d/\").title()\n\nbronze_path_today = f\"@bronze_xml/{folder_today}\"\nsilver_path_today = f\"@silver_xml/{folder_today}\"\n\nprint(\"📂 Today’s folder:\", bronze_path_today)\nprint(\"📂 Yesterday’s folder:\", folder_yesterday)",
   "execution_count": null,
   "outputs": []
  },
  {
   "cell_type": "code",
   "id": "f9feaadb-8635-4586-bdfe-33d45d24bd6b",
   "metadata": {
    "language": "python",
    "name": "cell2"
   },
   "outputs": [],
   "source": "import sys\n\nfiles_today = session.sql(f\"LIST {bronze_path_today}\").collect()\n\nif not any(\n    \"customers_\" in f[\"name\"].lower() or\n    \"products_\" in f[\"name\"].lower() or\n    \"orders_\" in f[\"name\"].lower()\n    for f in files_today\n):\n    print(\"❌ No new files found. Exiting.\")\n    session.close()\n    raise SystemExit\nelse:\n    print(\"✅ Files found, proceeding with Day 1 processing\")\n",
   "execution_count": null
  },
  {
   "cell_type": "code",
   "id": "74663686-c395-4d1b-ad8e-f1a48d90b21f",
   "metadata": {
    "language": "python",
    "name": "cell5"
   },
   "outputs": [],
   "source": "session.sql(\"TRUNCATE TABLE customers\").collect()\nsession.sql(\"TRUNCATE TABLE products\").collect()\nsession.sql(\"TRUNCATE TABLE orders\").collect()\n\n# COPY INTO with pattern matching\nfor cmd in [\n    f\"\"\"\n    COPY INTO customers FROM {bronze_path_today}\n    FILE_FORMAT = (FORMAT_NAME = my_parquet_format)\n    MATCH_BY_COLUMN_NAME = CASE_INSENSITIVE\n    PATTERN = '.*customers_.*\\\\.parquet';\n    \"\"\",\n    f\"\"\"\n    COPY INTO products FROM {bronze_path_today}\n    FILE_FORMAT = (FORMAT_NAME = my_parquet_format)\n    MATCH_BY_COLUMN_NAME = CASE_INSENSITIVE\n    PATTERN = '.*products_.*\\\\.parquet';\n    \"\"\",\n    f\"\"\"\n    COPY INTO orders FROM {bronze_path_today}\n    FILE_FORMAT = (FORMAT_NAME = my_parquet_format)\n    MATCH_BY_COLUMN_NAME = CASE_INSENSITIVE\n    PATTERN = '.*orders_.*\\\\.parquet';\n    \"\"\"\n]:\n    session.sql(cmd).collect()\n\nprint(\"✅ Bronze tables truncated and overwritten with today's data\")",
   "execution_count": null
  },
  {
   "cell_type": "code",
   "id": "fdc1e463-086c-47b1-bc63-d43593f2b012",
   "metadata": {
    "language": "python",
    "name": "cell6"
   },
   "outputs": [],
   "source": "df = session.table(\"orders\").limit(10)\ndf.show()",
   "execution_count": null
  },
  {
   "cell_type": "code",
   "id": "33b1feb5-63ca-42db-bb9d-a30c859fa1aa",
   "metadata": {
    "language": "python",
    "name": "cell7"
   },
   "outputs": [],
   "source": "from snowflake.snowpark.functions import col, lit, row_number, sql_expr\nfrom snowflake.snowpark.window import Window\n\nnow = sql_expr(\"TO_TIMESTAMP_NTZ(TO_CHAR(CURRENT_TIMESTAMP(), 'YYYY-MM-DD HH24:MI:SS'))\")\nend_datetime = sql_expr(\"TO_TIMESTAMP_NTZ('2099-12-31 23:59:59')\")\n\ncustomers_today = session.table(\"customers\") \\\n    .filter((col(\"customer_id\").is_not_null()) & (col(\"customer_name\").is_not_null())) \\\n    .with_columns(\n        [\"customer_id\", \"customer_name\", \"start_date\", \"load_date\"],\n        [\n            col(\"customer_id\").cast(\"int\"),\n            col(\"customer_name\").cast(\"string\"),\n            col(\"start_date\").cast(\"timestamp\"),\n            now\n        ]\n    )\n\nproducts_today = session.table(\"products\") \\\n    .filter((col(\"product_id\").is_not_null()) & (col(\"product_name\").is_not_null())) \\\n    .with_columns(\n        [\"product_id\", \"product_name\", \"start_date\", \"load_date\"],\n        [\n            col(\"product_id\").cast(\"string\"),\n            col(\"product_name\").cast(\"string\"),\n            col(\"start_date\").cast(\"timestamp\"),\n            now\n        ]\n    )\n\norders_today = session.table(\"orders\") \\\n    .filter((col(\"order_id\").is_not_null()) & (col(\"customer_id\").is_not_null()) & (col(\"product_id\").is_not_null())) \\\n    .with_columns(\n        [\"order_id\", \"customer_id\", \"product_id\", \"start_date\", \"load_date\", \"end_date\"],\n        [\n            col(\"order_id\").cast(\"string\"),\n            col(\"customer_id\").cast(\"int\"),\n            col(\"product_id\").cast(\"string\"),\n            col(\"start_date\").cast(\"timestamp\"),\n            now,\n            end_datetime\n        ]\n    )\n\nprint(\"✅ Today's data cleaned and casted\")",
   "execution_count": null
  },
  {
   "cell_type": "code",
   "id": "9e796f51-6e1e-4487-a035-2ca3733d77e3",
   "metadata": {
    "language": "python",
    "name": "cell9"
   },
   "outputs": [],
   "source": "prev_customers = session.table(\"customers_silver\")\nprev_products = session.table(\"products_silver\")\nprev_orders = session.table(\"orders_silver\")\n\nprint(\"✅ Loaded yesterday’s silver tables\")",
   "execution_count": null
  },
  {
   "cell_type": "code",
   "id": "acf1a37a-1814-4830-8f3d-7ea14f687df8",
   "metadata": {
    "language": "python",
    "name": "cell10"
   },
   "outputs": [],
   "source": "new_customers = customers_today.join(prev_customers, \"customer_id\", \"left_anti\")\nmax_cust_sk = prev_customers.agg({\"customer_sk\": \"max\"}).collect()[0][0] or 1000\n\nnew_customers = new_customers.with_column(\n    \"customer_sk\", row_number().over(Window.order_by(\"customer_id\")) + max_cust_sk\n)\n\nfinal_customers = prev_customers.union_all(\n    new_customers.select(\"customer_id\", \"customer_sk\", \"customer_name\", \"start_date\", \"load_date\")\n)\n\nprint(\"✅ Customer surrogate keys handled\")",
   "execution_count": null
  },
  {
   "cell_type": "code",
   "id": "ccd49fc8-7cd0-4ba4-a053-01e2396bef93",
   "metadata": {
    "language": "python",
    "name": "cell11"
   },
   "outputs": [],
   "source": "new_products = products_today.join(prev_products, \"product_id\", \"left_anti\")\nmax_prod_sk = prev_products.agg({\"product_sk\": \"max\"}).collect()[0][0] or 2000\n\nnew_products = new_products.with_column(\n    \"product_sk\", row_number().over(Window.order_by(\"product_id\")) + max_prod_sk\n)\n\nfinal_products = prev_products.union_all(\n    new_products.select(\"product_id\", \"product_sk\", \"product_name\", \"start_date\", \"load_date\")\n)\n\nprint(\"✅ Product surrogate keys handled\")",
   "execution_count": null
  },
  {
   "cell_type": "code",
   "id": "d5c96c08-af90-406b-90a3-15fc1b254d57",
   "metadata": {
    "language": "python",
    "name": "cell12"
   },
   "outputs": [],
   "source": "# Re-alias tables for join\nt = orders_today.alias(\"t\")          # Today's orders\ny = prev_orders.alias(\"y\")           # Yesterday's orders\n\n# Join on order_id and customer_id\njoined_orders = t.join(\n    y,\n    (t[\"order_id\"] == y[\"order_id\"]) & (t[\"customer_id\"] == y[\"customer_id\"]),\n    \"left\"\n)\n\n# 1️⃣ Identify product changes → SCD2 update needed\nproduct_changed = joined_orders.filter(\n    (y[\"product_id\"].is_not_null()) & (t[\"product_id\"] != y[\"product_id\"])\n)\n\n# 1a. Close the previous product with end_date = today\nclose_old = product_changed.select(\n    y[\"order_id\"], y[\"customer_id\"], y[\"product_id\"],\n    y[\"start_date\"], y[\"load_date\"],\n    lit(now).alias(\"end_date\")\n)\n\n# 1b. Insert new product row with same order_id, customer_id but new product_id\ninsert_new = product_changed.select(\n    t[\"order_id\"], t[\"customer_id\"], t[\"product_id\"],\n    t[\"start_date\"], t[\"load_date\"],\n    lit(end_datetime).alias(\"end_date\")\n)\n\n# 2️⃣ Keep unchanged orders as-is\nunchanged_orders = joined_orders.filter(\n    t[\"product_id\"] == y[\"product_id\"]\n).select(y[\"order_id\"], y[\"customer_id\"], y[\"product_id\"], y[\"start_date\"], y[\"load_date\"], y[\"end_date\"])\n\n# 3️⃣ New orders not seen yesterday → insert as-is\nnew_orders = t.join(y, \"order_id\", \"left_anti\")\n\n# 4️⃣ Deleted orders → present yesterday but missing today → mark with end_date = load_date\ndeleted_orders = y.join(t, \"order_id\", \"left_anti\") \\\n    .with_column(\"end_date\", y[\"load_date\"])\n\n# ✅ Combine all\nfinal_orders = unchanged_orders.union_all(close_old).union_all(insert_new).union_all(new_orders).union_all(deleted_orders)\n\nprint(\"✅ Orders table updated with SCD Type 2 logic\")\n",
   "execution_count": null
  },
  {
   "cell_type": "code",
   "id": "a43fe50d-e78e-495f-b9a2-7458e12685bf",
   "metadata": {
    "language": "python",
    "name": "cell13"
   },
   "outputs": [],
   "source": "final_customers.write.mode(\"overwrite\").save_as_table(\"customers_silver\")\nfinal_products.write.mode(\"overwrite\").save_as_table(\"products_silver\")\nfinal_orders.write.mode(\"overwrite\").save_as_table(\"orders_silver\")\n\nprint(\"✅ Final silver tables saved to Snowflake\")",
   "execution_count": null
  },
  {
   "cell_type": "code",
   "id": "b436683a-564d-4602-89fb-87b9fa8a74d7",
   "metadata": {
    "language": "python",
    "name": "cell8"
   },
   "outputs": [],
   "source": "df = session.table(\"orders_silver\").limit(10)\ndf.show()",
   "execution_count": null
  },
  {
   "cell_type": "code",
   "id": "badf9a56-c6fa-4dbf-b1f9-024013586816",
   "metadata": {
    "language": "python",
    "name": "cell14"
   },
   "outputs": [],
   "source": "# Create silver stage if not exists\nsession.sql(f\"\"\"\nCREATE OR REPLACE STAGE silver_xml\nURL = 's3://datascience-output-bucket/silver/xml/'\nSTORAGE_INTEGRATION = aws_snowflake_connect\nFILE_FORMAT = (TYPE = PARQUET COMPRESSION = SNAPPY)\n\"\"\").collect()\n\n# Helper export function\ndef export_to_s3(table_name, filename):\n    session.sql(f\"\"\"\n    COPY INTO @silver_xml/{folder_today}{filename}\n    FROM (\n        SELECT * FROM {table_name}\n    )\n    FILE_FORMAT = (TYPE = PARQUET COMPRESSION = SNAPPY)\n    SINGLE = TRUE\n    OVERWRITE = TRUE;\n    \"\"\").collect()\n\nexport_to_s3(\"customers_silver\", f\"Customers_{today.strftime('%Y%m%d')}.parquet\")\nexport_to_s3(\"products_silver\", f\"Products_{today.strftime('%Y%m%d')}.parquet\")\nexport_to_s3(\"orders_silver\", f\"Orders_{today.strftime('%Y%m%d')}.parquet\")\n\nsession.close()\nprint(\"✅ Export complete. 🔒 Session closed.\")\n",
   "execution_count": null
  }
 ]
}