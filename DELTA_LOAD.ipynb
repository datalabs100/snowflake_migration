{
 "metadata": {
  "kernelspec": {
   "display_name": "Streamlit Notebook",
   "name": "streamlit"
  },
  "lastEditStatus": {
   "notebookId": "k3wjagyzepf4em2nc2k2",
   "authorId": "7839801670957",
   "authorName": "MZS1988",
   "authorEmail": "datalabs300@gmail.com",
   "sessionId": "2502921f-5b6f-4dd7-89a2-9c82bb0a8805",
   "lastEditTime": 1759390214649
  }
 },
 "nbformat_minor": 5,
 "nbformat": 4,
 "cells": [
  {
   "cell_type": "code",
   "id": "3775908f-ca36-4846-8f38-5adca39217f2",
   "metadata": {
    "language": "python",
    "name": "cell1"
   },
   "source": "# ==============================\n# Delta Load Script (Snowpark)\n# ==============================\nfrom snowflake.snowpark import Session\nfrom datetime import datetime\n\n# ---------- CONFIG ----------\nfolder_path = datetime.utcnow().strftime(\"%Y/%b/%d/\").title()  # e.g. 2025/Sep/24/\nprint(\"📌 Using folder path:\", folder_path)\n\nconnection_parameters = {\n    \"account\": \"MJ13681.ap-southeast-1\",\n    \"user\": \"mzs1988\",\n    \"password\": \"Datalabs@193001\",\n    \"role\": \"ACCOUNTADMIN\",\n    \"warehouse\": \"COMPUTE_WH\",\n    \"database\": \"DEV\",\n    \"schema\": \"DATASCIENCE\"\n}\n\nsession = Session.builder.configs(connection_parameters).create()\n\n# ---------- CONSTANTS (all NTZ, UTC, seconds precision) ----------\nNOW_NTZ = \"TO_TIMESTAMP_NTZ(TO_CHAR(CONVERT_TIMEZONE('UTC', CURRENT_TIMESTAMP()), 'YYYY-MM-DD HH24:MI:SS'))\"\nOPEN_END_DATE = \"TO_TIMESTAMP_NTZ('2099-12-31 23:59:59')\"",
   "execution_count": null,
   "outputs": []
  },
  {
   "cell_type": "code",
   "id": "8d50cbf4-0c8d-4950-86cb-114990437ac9",
   "metadata": {
    "language": "python",
    "name": "cell2"
   },
   "source": "# ---------- ENTITIES ---------- (adjust compare_cols if you change schema)\nentities = {\n    \"customers\": {\n        \"bronze\": \"bronze_customers_delta\",\n        \"silver\": \"silver_customers_delta\",\n        \"stage_entity\": \"customers\",\n        \"pattern\": r\".*Customers_.*?/part-.*\\.parquet\",\n        \"key\": \"customer_id\",\n        \"compare_cols\": [\"customer_name\", \"start_date\"]\n    },\n    \"products\": {\n        \"bronze\": \"bronze_products_delta\",\n        \"silver\": \"silver_products_delta\",\n        \"stage_entity\": \"products\",\n        \"pattern\": r\".*Products_.*?/part-.*\\.parquet\",\n        \"key\": \"product_id\",\n        \"compare_cols\": [\"product_name\", \"start_date\"]\n    },\n    \"orders\": {\n        \"bronze\": \"bronze_orders_delta\",\n        \"silver\": \"silver_orders_delta\",\n        \"stage_entity\": \"orders\",\n        \"pattern\": r\".*Orders_.*?/part-.*\\.parquet\",\n        \"key\": \"order_id\",\n        \"compare_cols\": [\"customer_id\", \"product_id\", \"start_date\"]\n    }\n}",
   "execution_count": null,
   "outputs": []
  },
  {
   "cell_type": "code",
   "id": "c695373e-ac74-4b62-a1f1-08206cbd5c81",
   "metadata": {
    "language": "python",
    "name": "cell3"
   },
   "source": "# ---------- Helper: check stage for today's files ----------\ndef stage_has_files(stage_entity, pattern):\n    \"\"\"\n    Returns True if @bronze_csv/{stage_entity}/Delta_load/csv_files/{folder_path} has any objects\n    \"\"\"\n    stage_path = f\"@bronze_csv/{stage_entity}/Delta_load/csv_files/{folder_path}\"\n    try:\n        rows = session.sql(f\"LIST {stage_path};\").collect()\n        return len(rows) > 0\n    except Exception as e:\n        # treat failure (no path) as no files\n        print(f\"⚠️ LIST failed for {stage_path}: {e}\")\n        return False",
   "execution_count": null,
   "outputs": []
  },
  {
   "cell_type": "code",
   "id": "314e36b1-96fa-4ba3-bc8b-2dbb226398bc",
   "metadata": {
    "language": "python",
    "name": "cell5"
   },
   "outputs": [],
   "source": "# ---------- STEP 1: Refresh Bronze tables (truncate + COPY) ----------\nfor name, meta in entities.items():\n    bronze_table = meta[\"bronze\"]\n    stage_entity = meta[\"stage_entity\"]\n    stage_path = f\"@bronze_csv/{stage_entity}/Delta_load/csv_files/{folder_path}\"\n    pat = meta[\"pattern\"]\n\n    if stage_has_files(stage_entity, pat):\n        print(f\"📥 Found parquet(s) for {name}. Refreshing {bronze_table} from {stage_path}\")\n        session.sql(f\"TRUNCATE TABLE {bronze_table};\").collect()\n        copy_sql = f\"\"\"\n        COPY INTO {bronze_table}\n        FROM {stage_path}\n        FILE_FORMAT = (FORMAT_NAME = my_parquet_format)\n        MATCH_BY_COLUMN_NAME = CASE_INSENSITIVE\n        PATTERN = '{pat}';\n        \"\"\"\n        session.sql(copy_sql).collect()\n        print(f\"✅ Loaded {bronze_table}\")\n    else:\n        print(f\"ℹ️ No new files for {name}. Keeping existing {bronze_table}.\")",
   "execution_count": null
  },
  {
   "cell_type": "code",
   "id": "4dd2ce13-a964-451c-a02a-50b4a32a1e59",
   "metadata": {
    "language": "python",
    "name": "cell7"
   },
   "outputs": [],
   "source": "df = session.table(\"bronze_customers_delta\")\ndf.show(15)\n",
   "execution_count": null
  },
  {
   "cell_type": "code",
   "id": "d95a9570-0090-49b3-b89d-e583feed6866",
   "metadata": {
    "language": "python",
    "name": "cell4"
   },
   "outputs": [],
   "source": "# ---------- STEP 2: Delta transformations: bronze_clean -> silver (SCD2) ----------\n# Overview per entity:\n# 0) Create cleaned bronze tables ({bronze}_clean) with trimming, casting, deduplication, and date checks\n# 1) Expire changed records (set end_date = new.start_date) when bronze_clean has updated rows (delete_flag='N').\n# 2) Insert new/updated rows (where no active row exists).\n# 3) Expire rows flagged deleted in bronze_clean where no new row exists (set end_date = NOW_NTZ).\n# 4) Expire rows missing in bronze_clean (i.e., key not present in today's bronze_clean) - logical delete at NOW_NTZ.\n\nfor name, meta in entities.items():\n    bronze = meta[\"bronze\"]\n    bronze_clean = bronze.replace(\"_delta\", \"_clean\")  # ✅ NEW: clean table name\n    silver = meta[\"silver\"]\n    key = meta[\"key\"]\n    compare_cols = meta[\"compare_cols\"]\n\n    print(f\"\\n🧹 Cleaning bronze table for {name} -> {bronze_clean}\")\n\n    # ✅ NEW: cleaning rules per entity\n    if name == \"customers\":\n        clean_sql = f\"\"\"\n        CREATE OR REPLACE TABLE {bronze_clean} AS\n        SELECT DISTINCT\n            TRY_CAST(customer_id AS INT) AS customer_id,\n            TRIM(customer_name) AS customer_name,\n            CAST(start_date AS TIMESTAMP_NTZ) AS start_date,\n            LOWER(COALESCE(delete_flag,'N')) AS delete_flag\n        FROM {bronze}\n        WHERE customer_id IS NOT NULL\n          AND TRY_CAST(customer_id AS INT) > 0\n          AND start_date IS NOT NULL\n          AND start_date <= CURRENT_TIMESTAMP();\n        \"\"\"\n    elif name == \"products\":\n        clean_sql = f\"\"\"\n        CREATE OR REPLACE TABLE {bronze_clean} AS\n        SELECT DISTINCT\n            CAST(product_id AS STRING) AS product_id,\n            TRIM(product_name) AS product_name,\n            CAST(start_date AS TIMESTAMP_NTZ) AS start_date,\n            LOWER(COALESCE(delete_flag,'N')) AS delete_flag\n        FROM {bronze}\n        WHERE product_id IS NOT NULL\n          AND start_date IS NOT NULL\n          AND start_date <= CURRENT_TIMESTAMP();\n        \"\"\"\n    elif name == \"orders\":\n        clean_sql = f\"\"\"\n        CREATE OR REPLACE TABLE {bronze_clean} AS\n        SELECT DISTINCT\n            CAST(order_id AS STRING) AS order_id,\n            TRY_CAST(customer_id AS INT) AS customer_id,\n            CAST(product_id AS STRING) AS product_id,\n            CAST(start_date AS TIMESTAMP_NTZ) AS start_date,\n            LOWER(COALESCE(delete_flag,'N')) AS delete_flag\n        FROM {bronze}\n        WHERE order_id IS NOT NULL\n          AND customer_id IS NOT NULL\n          AND TRY_CAST(customer_id AS INT) > 0\n          AND product_id IS NOT NULL\n          AND start_date IS NOT NULL\n          AND start_date <= CURRENT_TIMESTAMP();\n        \"\"\"\n    else:\n        raise ValueError(f\"❌ Unknown entity {name}\")\n\n    session.sql(clean_sql).collect()\n    print(f\"✅ Created cleaned table: {bronze_clean}\")\n\n    print(f\"\\n🔁 Processing entity: {name} (using {bronze_clean})\")\n\n    # A) Expire changed records\n    change_condition = \" OR \".join([f\"(tgt.{c} IS DISTINCT FROM src_new.{c})\" for c in compare_cols])\n    expire_changed_sql = f\"\"\"\n    UPDATE {silver} tgt\n    SET end_date = TO_TIMESTAMP_NTZ(TO_CHAR(src_new.start_date, 'YYYY-MM-DD HH24:MI:SS'))\n    FROM (\n      SELECT {key}, {', '.join(compare_cols)}\n      FROM {bronze_clean}   -- ✅ CHANGED: use bronze_clean\n      WHERE delete_flag = 'n'\n    ) src_new\n    WHERE tgt.{key} = src_new.{key}\n      AND tgt.end_date = {OPEN_END_DATE}\n      AND ({change_condition});\n    \"\"\"\n    session.sql(expire_changed_sql).collect()\n    print(\"  ✅ Expired changed rows (set end_date = new.start_date)\")\n\n    # B) Insert new/updated rows\n    insert_new_sql = f\"\"\"\n    INSERT INTO {silver} ({key}, {', '.join(compare_cols)}, load_date, end_date)\n    SELECT\n      src.{key},\n      {', '.join([f\"src.{c}\" for c in compare_cols])},\n      {NOW_NTZ} AS load_date,\n      {OPEN_END_DATE} AS end_date\n    FROM {bronze_clean} src   -- ✅ CHANGED: use bronze_clean\n    WHERE src.delete_flag = 'n'\n      AND NOT EXISTS (\n        SELECT 1 FROM {silver} tgt\n        WHERE tgt.{key} = src.{key}\n          AND tgt.end_date = {OPEN_END_DATE}\n      );\n    \"\"\"\n    session.sql(insert_new_sql).collect()\n    print(\"  ✅ Inserted new/updated rows (no active row existed)\")\n\n    # C) Expire rows marked deleted (delete_flag='y' without 'n')\n    expire_flag_y_without_n_sql = f\"\"\"\n    UPDATE {silver} tgt\n    SET end_date = {NOW_NTZ}\n    WHERE tgt.end_date = {OPEN_END_DATE}\n      AND tgt.{key} IN (\n         SELECT key_del.{key} FROM (\n           SELECT {key}, delete_flag FROM {bronze_clean}   -- ✅ CHANGED: use bronze_clean\n         ) key_del\n         WHERE key_del.delete_flag = 'y'\n         AND key_del.{key} NOT IN (\n           SELECT {key} FROM {bronze_clean} WHERE delete_flag = 'n'   -- ✅ CHANGED: use bronze_clean\n         )\n      );\n    \"\"\"\n    session.sql(expire_flag_y_without_n_sql).collect()\n    print(\"  ✅ Expired rows marked delete_flag='Y' with no 'N' counterpart (set end_date = now)\")\n\n    # D) Expire silver active rows missing from today's bronze_clean entirely (logical deletes)\n    expire_missing_sql = f\"\"\"\n    UPDATE {silver}\n    SET end_date = {NOW_NTZ}\n    WHERE end_date = {OPEN_END_DATE}\n      AND {key} NOT IN (SELECT {key} FROM {bronze_clean});   -- ✅ CHANGED: use bronze_clean\n    \"\"\"\n    session.sql(expire_missing_sql).collect()\n    print(\"  ✅ Expired silver rows missing from bronze_clean (logical deletes)\")\n\nprint(\"\\n🎉 Delta load complete: silver_*_delta tables updated in Snowflake.\")\nsession.close()\nprint(\"🔒 Session closed\")\n",
   "execution_count": null
  },
  {
   "cell_type": "code",
   "id": "56325cf1-8052-4d40-8a38-e80e7a81fe8d",
   "metadata": {
    "language": "python",
    "name": "cell9"
   },
   "outputs": [],
   "source": "session.table(\"silver_customers_delta\").order_by(\"customer_id\").show(15)\n\n",
   "execution_count": null
  }
 ]
}