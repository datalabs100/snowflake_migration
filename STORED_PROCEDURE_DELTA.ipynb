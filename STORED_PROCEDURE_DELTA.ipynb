{
 "metadata": {
  "kernelspec": {
   "display_name": "Streamlit Notebook",
   "name": "streamlit"
  },
  "lastEditStatus": {
   "notebookId": "5gxhkfn3mpz6sjj36snb",
   "authorId": "7839801670957",
   "authorName": "MZS1988",
   "authorEmail": "datalabs300@gmail.com",
   "sessionId": "898fba6e-9436-41dc-8da5-c6039eecf8e5",
   "lastEditTime": 1759733102298
  }
 },
 "nbformat_minor": 5,
 "nbformat": 4,
 "cells": [
  {
   "cell_type": "code",
   "id": "3775908f-ca36-4846-8f38-5adca39217f2",
   "metadata": {
    "language": "sql",
    "name": "cell1"
   },
   "source": "CREATE OR REPLACE PROCEDURE DATASCIENCE.PROC_DELTA_LOAD()\nRETURNS STRING\nLANGUAGE PYTHON\nRUNTIME_VERSION = '3.10'\nPACKAGES = ('snowflake-snowpark-python', 'pandas')\nHANDLER = 'main'\nAS\n$$\nfrom snowflake.snowpark import Session\nfrom datetime import datetime\n\ndef main(session):\n\n    # ---------- CONFIG ----------\n    folder_path = datetime.utcnow().strftime(\"%Y/%b/%d/\").title()\n    print(f\"📌 Using folder path: {folder_path}\")\n\n    # ---------- CONSTANTS ----------\n    NOW_NTZ = \"TO_TIMESTAMP_NTZ(TO_CHAR(CONVERT_TIMEZONE('UTC', CURRENT_TIMESTAMP()), 'YYYY-MM-DD HH24:MI:SS'))\"\n    OPEN_END_DATE = \"TO_TIMESTAMP_NTZ('2099-12-31 23:59:59')\"\n\n    # ---------- ENTITIES ----------\n    entities = {\n        \"customers\": {\n            \"bronze\": \"bronze_customers_delta\",\n            \"silver\": \"silver_customers_delta\",\n            \"stage_entity\": \"customers\",\n            \"pattern\": r\".*Customers_.*?/part-.*\\.parquet\",\n            \"key\": \"customer_id\",\n            \"compare_cols\": [\"customer_name\", \"start_date\"]\n        },\n        \"products\": {\n            \"bronze\": \"bronze_products_delta\",\n            \"silver\": \"silver_products_delta\",\n            \"stage_entity\": \"products\",\n            \"pattern\": r\".*Products_.*?/part-.*\\.parquet\",\n            \"key\": \"product_id\",\n            \"compare_cols\": [\"product_name\", \"start_date\"]\n        },\n        \"orders\": {\n            \"bronze\": \"bronze_orders_delta\",\n            \"silver\": \"silver_orders_delta\",\n            \"stage_entity\": \"orders\",\n            \"pattern\": r\".*Orders_.*?/part-.*\\.parquet\",\n            \"key\": \"order_id\",\n            \"compare_cols\": [\"customer_id\", \"product_id\", \"start_date\"]\n        }\n    }\n\n    # ---------- Helper Function ----------\n    def stage_has_files(stage_entity, pattern):\n        stage_path = f\"@bronze_csv/{stage_entity}/Delta_load/csv_files/{folder_path}\"\n        try:\n            rows = session.sql(f\"LIST {stage_path};\").collect()\n            return len(rows) > 0\n        except Exception as e:\n            print(f\"⚠️ LIST failed for {stage_path}: {e}\")\n            return False\n\n    # ---------- STEP 1: Refresh Bronze Tables ----------\n    for name, meta in entities.items():\n        bronze_table = meta[\"bronze\"]\n        stage_entity = meta[\"stage_entity\"]\n        stage_path = f\"@bronze_csv/{stage_entity}/Delta_load/csv_files/{folder_path}\"\n        pat = meta[\"pattern\"]\n\n        if stage_has_files(stage_entity, pat):\n            session.sql(f\"TRUNCATE TABLE {bronze_table};\").collect()\n            copy_sql = f\"\"\"\n            COPY INTO {bronze_table}\n            FROM {stage_path}\n            FILE_FORMAT = (FORMAT_NAME = my_parquet_format)\n            MATCH_BY_COLUMN_NAME = CASE_INSENSITIVE\n            PATTERN = '{pat}';\n            \"\"\"\n            session.sql(copy_sql).collect()\n            print(f\"✅ Loaded {bronze_table}\")\n        else:\n            print(f\"ℹ️ No new files for {name}. Keeping existing {bronze_table}.\")\n\n    # ---------- STEP 2: Delta Transformations ----------\n    for name, meta in entities.items():\n        bronze = meta[\"bronze\"]\n        bronze_clean = bronze.replace(\"_delta\", \"_clean\")\n        silver = meta[\"silver\"]\n        key = meta[\"key\"]\n        compare_cols = meta[\"compare_cols\"]\n\n        print(f\"\\n🧹 Cleaning bronze table for {name} -> {bronze_clean}\")\n\n        if name == \"customers\":\n            clean_sql = f\"\"\"\n            CREATE OR REPLACE TABLE {bronze_clean} AS\n            SELECT DISTINCT\n                TRY_CAST(customer_id AS INT) AS customer_id,\n                TRIM(customer_name) AS customer_name,\n                CAST(start_date AS TIMESTAMP_NTZ) AS start_date,\n                LOWER(COALESCE(delete_flag,'N')) AS delete_flag\n            FROM {bronze}\n            WHERE customer_id IS NOT NULL\n              AND TRY_CAST(customer_id AS INT) > 0\n              AND start_date IS NOT NULL\n              AND start_date <= CURRENT_TIMESTAMP();\n            \"\"\"\n        elif name == \"products\":\n            clean_sql = f\"\"\"\n            CREATE OR REPLACE TABLE {bronze_clean} AS\n            SELECT DISTINCT\n                CAST(product_id AS STRING) AS product_id,\n                TRIM(product_name) AS product_name,\n                CAST(start_date AS TIMESTAMP_NTZ) AS start_date,\n                LOWER(COALESCE(delete_flag,'N')) AS delete_flag\n            FROM {bronze}\n            WHERE product_id IS NOT NULL\n              AND start_date IS NOT NULL\n              AND start_date <= CURRENT_TIMESTAMP();\n            \"\"\"\n        elif name == \"orders\":\n            clean_sql = f\"\"\"\n            CREATE OR REPLACE TABLE {bronze_clean} AS\n            SELECT DISTINCT\n                CAST(order_id AS STRING) AS order_id,\n                TRY_CAST(customer_id AS INT) AS customer_id,\n                CAST(product_id AS STRING) AS product_id,\n                CAST(start_date AS TIMESTAMP_NTZ) AS start_date,\n                LOWER(COALESCE(delete_flag,'N')) AS delete_flag\n            FROM {bronze}\n            WHERE order_id IS NOT NULL\n              AND customer_id IS NOT NULL\n              AND TRY_CAST(customer_id AS INT) > 0\n              AND product_id IS NOT NULL\n              AND start_date IS NOT NULL\n              AND start_date <= CURRENT_TIMESTAMP();\n            \"\"\"\n        session.sql(clean_sql).collect()\n        print(f\"✅ Created cleaned table: {bronze_clean}\")\n\n        # Expire changed records\n        change_condition = \" OR \".join([f\"(tgt.{c} IS DISTINCT FROM src_new.{c})\" for c in compare_cols])\n        expire_changed_sql = f\"\"\"\n        UPDATE {silver} tgt\n        SET end_date = TO_TIMESTAMP_NTZ(TO_CHAR(src_new.start_date, 'YYYY-MM-DD HH24:MI:SS'))\n        FROM (\n          SELECT {key}, {', '.join(compare_cols)}\n          FROM {bronze_clean}\n          WHERE delete_flag = 'n'\n        ) src_new\n        WHERE tgt.{key} = src_new.{key}\n          AND tgt.end_date = {OPEN_END_DATE}\n          AND ({change_condition});\n        \"\"\"\n        session.sql(expire_changed_sql).collect()\n\n        # Insert new/updated rows\n        insert_new_sql = f\"\"\"\n        INSERT INTO {silver} ({key}, {', '.join(compare_cols)}, load_date, end_date)\n        SELECT\n          src.{key},\n          {', '.join(['src.' + c for c in compare_cols])},\n          {NOW_NTZ} AS load_date,\n          {OPEN_END_DATE} AS end_date\n        FROM {bronze_clean} src\n        WHERE src.delete_flag = 'n'\n          AND NOT EXISTS (\n            SELECT 1 FROM {silver} tgt\n            WHERE tgt.{key} = src.{key}\n              AND tgt.end_date = {OPEN_END_DATE}\n          );\n        \"\"\"\n        session.sql(insert_new_sql).collect()\n\n        # Expire rows marked deleted\n        expire_flag_y_without_n_sql = f\"\"\"\n        UPDATE {silver} tgt\n        SET end_date = {NOW_NTZ}\n        WHERE tgt.end_date = {OPEN_END_DATE}\n          AND tgt.{key} IN (\n             SELECT {key} FROM {bronze_clean}\n             WHERE delete_flag = 'y'\n               AND {key} NOT IN (SELECT {key} FROM {bronze_clean} WHERE delete_flag = 'n')\n          );\n        \"\"\"\n        session.sql(expire_flag_y_without_n_sql).collect()\n\n        # Expire missing rows (logical deletes)\n        expire_missing_sql = f\"\"\"\n        UPDATE {silver}\n        SET end_date = {NOW_NTZ}\n        WHERE end_date = {OPEN_END_DATE}\n          AND {key} NOT IN (SELECT {key} FROM {bronze_clean});\n        \"\"\"\n        session.sql(expire_missing_sql).collect()\n\n    print(\"\\n🎉 Delta load complete: silver_*_delta tables updated in Snowflake.\")\n    return \"✅ PROC_DELTA_LOAD executed successfully\"\n\n$$;",
   "execution_count": null,
   "outputs": []
  },
  {
   "cell_type": "code",
   "id": "8d50cbf4-0c8d-4950-86cb-114990437ac9",
   "metadata": {
    "language": "sql",
    "name": "cell2"
   },
   "source": "CALL DATASCIENCE.PROC_DELTA_LOAD();",
   "execution_count": null,
   "outputs": []
  },
  {
   "cell_type": "code",
   "id": "c695373e-ac74-4b62-a1f1-08206cbd5c81",
   "metadata": {
    "language": "sql",
    "name": "cell3"
   },
   "source": "--SELECT * FROM silver_customers_delta ORDER BY customer_id;\nSELECT * FROM silver_products_delta ORDER BY product_id;\n--SELECT * FROM silver_orders_delta ORDER BY order_id;",
   "execution_count": null,
   "outputs": []
  },
  {
   "cell_type": "code",
   "id": "59af1acf-cae9-4e4c-a19d-17300b495542",
   "metadata": {
    "language": "sql",
    "name": "cell4"
   },
   "outputs": [],
   "source": "CREATE OR REPLACE EXTERNAL TABLE bronze_stage_monitor\nWITH LOCATION = @bronze_csv\nAUTO_REFRESH = TRUE\nFILE_FORMAT = (TYPE = PARQUET);\n\nCREATE OR REPLACE STREAM bronze_stage_stream\nON EXTERNAL TABLE bronze_stage_monitor\nINSERT_ONLY = TRUE;",
   "execution_count": null
  },
  {
   "cell_type": "code",
   "id": "023410e6-7de9-456c-9ab6-be95985c5ea8",
   "metadata": {
    "language": "sql",
    "name": "cell5"
   },
   "outputs": [],
   "source": "CREATE OR REPLACE TASK delta_load_task\nWAREHOUSE = COMPUTE_WH\nSCHEDULE = 'USING CRON 0 * * * * UTC'  -- optional fallback\nWHEN SYSTEM$STREAM_HAS_DATA('bronze_stage_stream')\nAS\nCALL DATASCIENCE.PROC_DELTA_LOAD();\n\nALTER TASK delta_load_task RESUME;",
   "execution_count": null
  },
  {
   "cell_type": "code",
   "id": "7ab576c8-2278-4297-b17a-8e4008316f00",
   "metadata": {
    "language": "sql",
    "name": "cell6"
   },
   "outputs": [],
   "source": "DROP PROCEDURE IF EXISTS DATASCIENCE.PROC_DELTA_LOAD();",
   "execution_count": null
  },
  {
   "cell_type": "code",
   "id": "c36c36e7-6162-4831-9b54-5dd51544d002",
   "metadata": {
    "language": "sql",
    "name": "cell7"
   },
   "outputs": [],
   "source": "SELECT * FROM silver_customers_delta ORDER BY customer_id;\n--SELECT * FROM silver_products_delta ORDER BY product_id;\n--SELECT * FROM silver_orders_delta ORDER BY order_id;",
   "execution_count": null
  },
  {
   "cell_type": "code",
   "id": "dbbc9974-bfc9-4fdb-b0c4-dc1dfda78b1d",
   "metadata": {
    "language": "sql",
    "name": "cell8"
   },
   "outputs": [],
   "source": "SHOW TASKS;\nSELECT * FROM TABLE(INFORMATION_SCHEMA.TASK_HISTORY())\nWHERE NAME = 'DELTA_LOAD_TASK'\nORDER BY SCHEDULED_TIME DESC;\n",
   "execution_count": null
  },
  {
   "cell_type": "code",
   "id": "c5e55cc5-6601-4669-80a8-0a5d68be78bb",
   "metadata": {
    "language": "sql",
    "name": "cell9"
   },
   "outputs": [],
   "source": "DESC STAGE DATASCIENCE.BRONZE_CSV;",
   "execution_count": null
  },
  {
   "cell_type": "code",
   "id": "f8036fca-4654-487d-81b4-5287eab6706d",
   "metadata": {
    "language": "sql",
    "name": "cell10"
   },
   "outputs": [],
   "source": "SHOW INTEGRATIONS LIKE 'S3_BRONZE_NOTIFY';\n",
   "execution_count": null
  },
  {
   "cell_type": "code",
   "id": "9870697e-9c20-4daa-8d6b-de5e28a2079f",
   "metadata": {
    "language": "sql",
    "name": "cell11"
   },
   "outputs": [],
   "source": "CREATE OR REPLACE NOTIFICATION INTEGRATION S3_BRONZE_NOTIFY\n  TYPE = QUEUE\n  ENABLED = TRUE\n  NOTIFICATION_PROVIDER = AWS_SNS;\n",
   "execution_count": null
  },
  {
   "cell_type": "code",
   "id": "7895a364-aaea-41d2-8764-faaee0541cea",
   "metadata": {
    "language": "sql",
    "name": "cell12"
   },
   "outputs": [],
   "source": "DESC STAGE BRONZE_CSV_DELTA;\n",
   "execution_count": null
  }
 ]
}